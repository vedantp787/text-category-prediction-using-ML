{
  "nbformat": 4,
  "nbformat_minor": 0,
  "metadata": {
    "colab": {
      "provenance": []
    },
    "kernelspec": {
      "name": "python3",
      "display_name": "Python 3"
    },
    "language_info": {
      "name": "python"
    }
  },
  "cells": [
    {
      "cell_type": "code",
      "execution_count": 4,
      "metadata": {
        "id": "LxHQozU69KDc"
      },
      "outputs": [],
      "source": [
        "# Predict notebook\n",
        "\n",
        "#This notebook loads the trained text classification model and vectorizer.\n",
        "#It asks the user to enter a sentence and predicts its category.\n"
      ]
    },
    {
      "cell_type": "code",
      "source": [
        "import joblib\n",
        "\n",
        "# Load the saved model and vectorizer\n",
        "model = joblib.load('/content/text_category_model.pkl')\n",
        "vectorizer = joblib.load('/content/tfidf_vectorizer.pkl')\n"
      ],
      "metadata": {
        "id": "K4sZHmR3ABSJ"
      },
      "execution_count": 5,
      "outputs": []
    },
    {
      "cell_type": "code",
      "source": [
        "import re\n",
        "\n",
        "def clean_text(text):\n",
        "    text = str(text).lower()\n",
        "    text = re.sub(r'http\\S+|www\\S+|https\\S+', '', text, flags=re.MULTILINE)\n",
        "    text = re.sub(r'[^\\w\\s]', '', text)\n",
        "    text = re.sub(r'\\d+', '', text)\n",
        "    return text\n"
      ],
      "metadata": {
        "id": "r8q2sELeABsn"
      },
      "execution_count": 6,
      "outputs": []
    },
    {
      "cell_type": "code",
      "source": [
        "def predict_category(sentence):\n",
        "    text = clean_text(sentence)\n",
        "    vec = vectorizer.transform([text])\n",
        "    pred = model.predict(vec)\n",
        "    return pred[0]\n"
      ],
      "metadata": {
        "id": "lrjI_X1cBPoD"
      },
      "execution_count": 7,
      "outputs": []
    },
    {
      "cell_type": "code",
      "source": [
        "#input the text\n",
        "user_input = input(\"Enter a sentence: \")\n",
        "category = predict_category(user_input)\n",
        "print(f\"Predicted category: {category}\")\n"
      ],
      "metadata": {
        "colab": {
          "base_uri": "https://localhost:8080/"
        },
        "id": "A8soD-jYBRQS",
        "outputId": "0140bae3-579c-42d9-8174-4754b73dfd14"
      },
      "execution_count": 8,
      "outputs": [
        {
          "output_type": "stream",
          "name": "stdout",
          "text": [
            "Enter a sentence: Turn on the profile picture guard\n",
            "Predicted category: Technology\n"
          ]
        }
      ]
    },
    {
      "cell_type": "code",
      "source": [
        "#input the text\n",
        "user_input = input(\"Enter a sentence: \")\n",
        "category = predict_category(user_input)\n",
        "print(f\"Predicted category: {category}\")\n"
      ],
      "metadata": {
        "colab": {
          "base_uri": "https://localhost:8080/"
        },
        "id": "Zz3DAZgyBSnV",
        "outputId": "78de4678-5040-46e5-f519-fa5093a8dffb"
      },
      "execution_count": 9,
      "outputs": [
        {
          "output_type": "stream",
          "name": "stdout",
          "text": [
            "Enter a sentence: there is a snake\n",
            "Predicted category: Entertainment\n"
          ]
        }
      ]
    },
    {
      "cell_type": "code",
      "source": [
        "#input the text\n",
        "user_input = input(\"Enter a sentence: \")\n",
        "category = predict_category(user_input)\n",
        "print(f\"Predicted category: {category}\")\n"
      ],
      "metadata": {
        "colab": {
          "base_uri": "https://localhost:8080/"
        },
        "id": "-FyC8Jy4gp7B",
        "outputId": "6f19dfc4-8a25-475e-8c30-0b4e46bd93b0"
      },
      "execution_count": 10,
      "outputs": [
        {
          "output_type": "stream",
          "name": "stdout",
          "text": [
            "Enter a sentence: Meet the Freestanding cord-free\n",
            "Predicted category: Other\n"
          ]
        }
      ]
    },
    {
      "cell_type": "code",
      "source": [],
      "metadata": {
        "id": "0isd9m7Agy2M"
      },
      "execution_count": null,
      "outputs": []
    }
  ]
}