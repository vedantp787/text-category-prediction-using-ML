{
  "nbformat": 4,
  "nbformat_minor": 0,
  "metadata": {
    "colab": {
      "provenance": []
    },
    "kernelspec": {
      "name": "python3",
      "display_name": "Python 3"
    },
    "language_info": {
      "name": "python"
    }
  },
  "cells": [
    {
      "cell_type": "code",
      "source": [
        "#okay so I have labeled the dataset that had no labels and created a new dataset (sample data)."
      ],
      "metadata": {
        "id": "FQXvZsqkc2_2"
      },
      "execution_count": 21,
      "outputs": []
    },
    {
      "cell_type": "code",
      "source": [
        "#\"Now I will move on to preprocessing"
      ],
      "metadata": {
        "id": "7qpV0klGubqM"
      },
      "execution_count": 22,
      "outputs": []
    },
    {
      "cell_type": "code",
      "execution_count": 23,
      "metadata": {
        "colab": {
          "base_uri": "https://localhost:8080/"
        },
        "id": "8PNDSTOJchg1",
        "outputId": "046c5cf6-5cef-4e36-868e-31163f65d557"
      },
      "outputs": [
        {
          "output_type": "stream",
          "name": "stdout",
          "text": [
            "                                                TEXT       CATEGORY\n",
            "0  Turn on the profile picture guard to make your...     Technology\n",
            "1  ►►►hier klicken: http://bit.ly/freiheitsdressu...      Education\n",
            "2  Weekend deal alert! Outdo Santa, today only, w...      Ecommerce\n",
            "3  THIS TEENAGE GIRL SHARES THE BIGGEST SECRET OF...  Entertainment\n",
            "4  Easy & convenient access to professional guida...     Healthcare\n",
            "<class 'pandas.core.frame.DataFrame'>\n",
            "RangeIndex: 99 entries, 0 to 98\n",
            "Data columns (total 2 columns):\n",
            " #   Column    Non-Null Count  Dtype \n",
            "---  ------    --------------  ----- \n",
            " 0   TEXT      99 non-null     object\n",
            " 1   CATEGORY  99 non-null     object\n",
            "dtypes: object(2)\n",
            "memory usage: 1.7+ KB\n",
            "None\n"
          ]
        }
      ],
      "source": [
        "# Now I will import pandas library\n",
        "import pandas as pd\n",
        "\n",
        "# Load dataset\n",
        "df = pd.read_csv('/content/Labeled_sample_100.csv')\n",
        "\n",
        "print(df.head())\n",
        "\n",
        "# See info about columns & types\n",
        "print(df.info()) # this will give info about rows and columns"
      ]
    },
    {
      "cell_type": "code",
      "source": [
        "import re #for the cleaning text, I'll use this to remove unwanted signs,emojis,URL's for better accuracy\n",
        "\n",
        "# Function to clean text\n",
        "def clean_text(text):\n",
        "    # Convert to lowercase\n",
        "    text = str(text).lower()\n",
        "    # Remove URLs\n",
        "    text = re.sub(r'http\\S+|www\\S+|https\\S+', '', text, flags=re.MULTILINE)\n",
        "    # Remove special characters & punctuation\n",
        "    text = re.sub(r'[^\\w\\s]', '', text)\n",
        "\n",
        "    text = re.sub(r'\\d+', '', text)\n",
        "    return text\n",
        "\n",
        "df['clean_text'] = df['TEXT'].apply(clean_text)\n",
        "\n",
        "print(df[['TEXT', 'clean_text']].head())\n"
      ],
      "metadata": {
        "colab": {
          "base_uri": "https://localhost:8080/"
        },
        "id": "MfHgMRBuum2v",
        "outputId": "d9646a26-188a-422e-cc75-da5e1dcdd3a9"
      },
      "execution_count": 24,
      "outputs": [
        {
          "output_type": "stream",
          "name": "stdout",
          "text": [
            "                                                TEXT  \\\n",
            "0  Turn on the profile picture guard to make your...   \n",
            "1  ►►►hier klicken: http://bit.ly/freiheitsdressu...   \n",
            "2  Weekend deal alert! Outdo Santa, today only, w...   \n",
            "3  THIS TEENAGE GIRL SHARES THE BIGGEST SECRET OF...   \n",
            "4  Easy & convenient access to professional guida...   \n",
            "\n",
            "                                          clean_text  \n",
            "0  turn on the profile picture guard to make your...  \n",
            "1                          hier klicken  click here   \n",
            "2  weekend deal alert outdo santa today only with...  \n",
            "3  this teenage girl shares the biggest secret of...  \n",
            "4  easy  convenient access to professional guidan...  \n"
          ]
        }
      ]
    },
    {
      "cell_type": "code",
      "source": [
        "from sklearn.model_selection import train_test_split\n",
        "from sklearn.feature_extraction.text import TfidfVectorizer\n",
        "\n",
        "# Split into train and test (80% train, 20% test)\n",
        "X_train, X_test, y_train, y_test = train_test_split(\n",
        "    df['clean_text'],  # text column\n",
        "    df['CATEGORY'],    # label column\n",
        "    test_size=0.2,\n",
        "    random_state=42\n",
        ")\n",
        "\n",
        "vectorizer = TfidfVectorizer(max_features=5000)\n",
        "\n",
        "X_train_tfidf = vectorizer.fit_transform(X_train)\n",
        "\n",
        "X_test_tfidf = vectorizer.transform(X_test)\n",
        "\n",
        "# Check shape (number of samples, number of features)\n",
        "print(\"Train shape:\", X_train_tfidf.shape)\n",
        "print(\"Test shape:\", X_test_tfidf.shape)\n"
      ],
      "metadata": {
        "colab": {
          "base_uri": "https://localhost:8080/"
        },
        "id": "JKbB5Q82upiW",
        "outputId": "29e854a0-1b47-42bf-867c-0f34d733abc0"
      },
      "execution_count": 25,
      "outputs": [
        {
          "output_type": "stream",
          "name": "stdout",
          "text": [
            "Train shape: (79, 592)\n",
            "Test shape: (20, 592)\n"
          ]
        }
      ]
    },
    {
      "cell_type": "code",
      "source": [
        "from sklearn.linear_model import LogisticRegression\n",
        "\n",
        "# few steps are done and now i will Create and train the model\n",
        "model = LogisticRegression(max_iter=1000)\n",
        "model.fit(X_train_tfidf, y_train)\n",
        "\n",
        "print(\"Model trained successfully!\")\n"
      ],
      "metadata": {
        "colab": {
          "base_uri": "https://localhost:8080/"
        },
        "id": "Sq23pwCDvA7C",
        "outputId": "bfe662c2-054d-4acf-edf7-e3bf391be8b9"
      },
      "execution_count": 26,
      "outputs": [
        {
          "output_type": "stream",
          "name": "stdout",
          "text": [
            "Model trained successfully!\n"
          ]
        }
      ]
    },
    {
      "cell_type": "code",
      "source": [
        "from sklearn.metrics import classification_report, accuracy_score\n",
        "\n",
        "# Predict categories for test set\n",
        "y_pred = model.predict(X_test_tfidf)\n",
        "\n",
        "# Print accuracy\n",
        "print(\"Accuracy:\", accuracy_score(y_test, y_pred))\n",
        "\n",
        "# Print detailed report\n",
        "print(classification_report(y_test, y_pred))\n"
      ],
      "metadata": {
        "colab": {
          "base_uri": "https://localhost:8080/"
        },
        "id": "NV9kpN0svMvD",
        "outputId": "08a5082b-b085-4bde-d270-c51764ff50cf"
      },
      "execution_count": 27,
      "outputs": [
        {
          "output_type": "stream",
          "name": "stdout",
          "text": [
            "Accuracy: 0.4\n",
            "               precision    recall  f1-score   support\n",
            "\n",
            "    Ecommerce       0.12      0.33      0.18         3\n",
            "    Education       0.00      0.00      0.00         1\n",
            "Entertainment       0.38      0.75      0.50         4\n",
            "   Healthcare       0.00      0.00      0.00         3\n",
            "        Other       1.00      0.50      0.67         6\n",
            "   Technology       1.00      0.33      0.50         3\n",
            "\n",
            "     accuracy                           0.40        20\n",
            "    macro avg       0.42      0.32      0.31        20\n",
            " weighted avg       0.54      0.40      0.40        20\n",
            "\n"
          ]
        },
        {
          "output_type": "stream",
          "name": "stderr",
          "text": [
            "/usr/local/lib/python3.11/dist-packages/sklearn/metrics/_classification.py:1565: UndefinedMetricWarning: Precision is ill-defined and being set to 0.0 in labels with no predicted samples. Use `zero_division` parameter to control this behavior.\n",
            "  _warn_prf(average, modifier, f\"{metric.capitalize()} is\", len(result))\n",
            "/usr/local/lib/python3.11/dist-packages/sklearn/metrics/_classification.py:1565: UndefinedMetricWarning: Precision is ill-defined and being set to 0.0 in labels with no predicted samples. Use `zero_division` parameter to control this behavior.\n",
            "  _warn_prf(average, modifier, f\"{metric.capitalize()} is\", len(result))\n",
            "/usr/local/lib/python3.11/dist-packages/sklearn/metrics/_classification.py:1565: UndefinedMetricWarning: Precision is ill-defined and being set to 0.0 in labels with no predicted samples. Use `zero_division` parameter to control this behavior.\n",
            "  _warn_prf(average, modifier, f\"{metric.capitalize()} is\", len(result))\n"
          ]
        }
      ]
    },
    {
      "cell_type": "code",
      "source": [
        "import random\n",
        "\n",
        "# Pick 10 random indices from test set\n",
        "indices = random.sample(range(len(X_test)), 10)\n",
        "\n",
        "for idx in indices:\n",
        "    text = X_test.iloc[idx]\n",
        "    true_label = y_test.iloc[idx]\n",
        "    pred_label = model.predict(vectorizer.transform([text]))[0]\n",
        "\n",
        "    print(f\"Text: {text}\")\n",
        "    print(f\"True category: {true_label}\")\n",
        "    print(f\"Predicted category: {pred_label}\")\n",
        "    print(\"---\")\n"
      ],
      "metadata": {
        "colab": {
          "base_uri": "https://localhost:8080/"
        },
        "id": "s8TBIaeavWQu",
        "outputId": "cf0c668b-a410-4332-a8f3-1a1a103be2bf"
      },
      "execution_count": 28,
      "outputs": [
        {
          "output_type": "stream",
          "name": "stdout",
          "text": [
            "Text: the best bingo out there try it yourself and win at gamepoint bingo\n",
            "True category: Entertainment\n",
            "Predicted category: Entertainment\n",
            "---\n",
            "Text: this week watch the legend inspire from the epicentre of baramulla jammu and kashmir only on dr subhash chandra show dscshow\n",
            "True category: Entertainment\n",
            "Predicted category: Ecommerce\n",
            "---\n",
            "Text: easy  convenient access to professional guidance right when  where you need it healthcare thats powered by the internet of things iot from vodafone thefutureisexciting ready know more \n",
            "True category: Healthcare\n",
            "Predicted category: Entertainment\n",
            "---\n",
            "Text: time to relax for the weekend but first a giveaway for a chance to win a  pinkblush gift card please like comment and share this post this giveaway will run until sunday november th at pm pst good luck to everyone xox\n",
            "True category: Ecommerce\n",
            "Predicted category: Entertainment\n",
            "---\n",
            "Text: bring the juicy red raspberry flavor to your game day lineup with smirnoff ice\n",
            "True category: Other\n",
            "Predicted category: Ecommerce\n",
            "---\n",
            "Text: wanna play   amazing new jackpots  bonus spins wild wins  play free\n",
            "True category: Entertainment\n",
            "Predicted category: Entertainment\n",
            "---\n",
            "Text: these  splendid features make the oppofplus gb absolutely stunning get yours today available onlyonflipkart  buy now \n",
            "True category: Technology\n",
            "Predicted category: Ecommerce\n",
            "---\n",
            "Text: the most divine pumpkin pie youll ever try yum is an understatement\n",
            "True category: Other\n",
            "Predicted category: Other\n",
            "---\n",
            "Text: bunked class with friends  tag them and tell us your best excuse p like beyounick for more fun stuff   youtube channel link   \n",
            "True category: Entertainment\n",
            "Predicted category: Entertainment\n",
            "---\n",
            "Text: like this post if youre over your same old toast routine change it up with nature nates  we love toast let us prove it \n",
            "True category: Ecommerce\n",
            "Predicted category: Entertainment\n",
            "---\n"
          ]
        }
      ]
    },
    {
      "cell_type": "code",
      "source": [
        "import joblib\n",
        "\n",
        "# Save the trained model to a file\n",
        "joblib.dump(model, 'text_category_model.pkl')\n",
        "\n",
        "# Also save the vectorizer so we can use it later\n",
        "joblib.dump(vectorizer, 'tfidf_vectorizer.pkl')\n",
        "\n",
        "print(\"Model and vectorizer saved successfully.\")\n"
      ],
      "metadata": {
        "colab": {
          "base_uri": "https://localhost:8080/"
        },
        "id": "iaOtbHFYvhn0",
        "outputId": "f87c93c5-cdd2-4a78-9102-1195d6778e98"
      },
      "execution_count": 29,
      "outputs": [
        {
          "output_type": "stream",
          "name": "stdout",
          "text": [
            "Model and vectorizer saved successfully.\n"
          ]
        }
      ]
    },
    {
      "cell_type": "code",
      "source": [
        "#To compare the accuracy of two models, I'll decide which one gives higher accuracy and then I'll go with that one"
      ],
      "metadata": {
        "id": "v7JlZXi2aO5n"
      },
      "execution_count": 30,
      "outputs": []
    },
    {
      "cell_type": "code",
      "source": [
        "from sklearn.linear_model import LogisticRegression\n",
        "from sklearn.ensemble import RandomForestClassifier\n"
      ],
      "metadata": {
        "id": "BzR6TwCj87wm"
      },
      "execution_count": 31,
      "outputs": []
    },
    {
      "cell_type": "code",
      "source": [
        "# Train LogisticRegression\n",
        "lr_model = LogisticRegression(max_iter=1000)\n",
        "lr_model.fit(X_train_tfidf, y_train)\n",
        "\n",
        "# Predict & evaluate\n",
        "lr_preds = lr_model.predict(X_test_tfidf)\n",
        "print(\"LogisticRegression Accuracy:\", accuracy_score(y_test, lr_preds))\n"
      ],
      "metadata": {
        "colab": {
          "base_uri": "https://localhost:8080/"
        },
        "id": "n9PR_CKoE7QW",
        "outputId": "7865d25a-0722-41bb-bed2-48a086c9aa61"
      },
      "execution_count": 32,
      "outputs": [
        {
          "output_type": "stream",
          "name": "stdout",
          "text": [
            "LogisticRegression Accuracy: 0.4\n"
          ]
        }
      ]
    },
    {
      "cell_type": "code",
      "source": [
        "# The final accuracy of the model is around 40–50%.\n",
        "# This is mainly because the labeled dataset is small (about 100 samples) and categories are imbalanced.\n",
        "# If we add more labeled data, especially in under‑represented categories, the model accuracy should improve."
      ],
      "metadata": {
        "id": "sw5OOuNCiGWV"
      },
      "execution_count": null,
      "outputs": []
    },
    {
      "cell_type": "code",
      "source": [
        "# Train RandomForestClassifier\n",
        "rf_model = RandomForestClassifier(n_estimators=100, random_state=42)\n",
        "rf_model.fit(X_train_tfidf, y_train)\n",
        "\n",
        "# Predict & evaluate\n",
        "rf_preds = rf_model.predict(X_test_tfidf)\n",
        "print(\"RandomForest Accuracy:\", accuracy_score(y_test, rf_preds))\n"
      ],
      "metadata": {
        "colab": {
          "base_uri": "https://localhost:8080/"
        },
        "id": "xWZEPcv0E-tE",
        "outputId": "5f95392c-dfef-421c-876a-08b6158037f2"
      },
      "execution_count": 33,
      "outputs": [
        {
          "output_type": "stream",
          "name": "stdout",
          "text": [
            "RandomForest Accuracy: 0.5\n"
          ]
        }
      ]
    },
    {
      "cell_type": "code",
      "source": [
        "# Since RandomForest gave better accuracy, keep it as final model\n",
        "model = rf_model\n",
        "\n",
        "# Save final model and vectorizer\n",
        "import joblib\n",
        "joblib.dump(model, 'text_category_model.pkl')\n",
        "joblib.dump(vectorizer, 'tfidf_vectorizer.pkl')\n",
        "\n",
        "print(\"Saved best model (RandomForest) and vectorizer.\")\n"
      ],
      "metadata": {
        "colab": {
          "base_uri": "https://localhost:8080/"
        },
        "id": "6Sh1Q4DwFAjW",
        "outputId": "c0a0da07-0629-4b33-d642-1c2346fa65fb"
      },
      "execution_count": 34,
      "outputs": [
        {
          "output_type": "stream",
          "name": "stdout",
          "text": [
            "Saved best model (RandomForest) and vectorizer.\n"
          ]
        }
      ]
    },
    {
      "cell_type": "code",
      "source": [
        "# now after evaluation i am going for API Part\n",
        "#here is the API explanation"
      ],
      "metadata": {
        "id": "ftSbrC_mFQHC"
      },
      "execution_count": 34,
      "outputs": []
    },
    {
      "cell_type": "code",
      "source": [
        "# The API can be accessed locally only while the server is running.\n",
        "# It is not deployed online, so it works on the machine where app.py is executed."
      ],
      "metadata": {
        "id": "w3Ilt3dsnYTP"
      },
      "execution_count": null,
      "outputs": []
    },
    {
      "cell_type": "code",
      "source": [
        "## Creating and testing the API\n",
        "\n",
        "#    After training and saving the best performing model (`text_category_model.pkl`),\n",
        "#    I created a small Flask API in VS Code to serve predictions.\n",
        "\n",
        "#     The API has a single POST endpoint `/predict` which:\n",
        "#   - accepts JSON with a new sentence\n",
        "#   -  uses the saved model and vectorizer to predict\n",
        "#   - returns the predicted category as JSON\n",
        "\n",
        "### Running the API locally\n",
        "# 1. Install Flask (one time):\n"
      ],
      "metadata": {
        "id": "2BHPf1VjlzOz"
      },
      "execution_count": null,
      "outputs": []
    },
    {
      "cell_type": "code",
      "source": [
        "#It uses the saved model and vectorizer to predict the category.\n",
        "\n",
        "#It returns the predicted category as JSON:\n",
        "{\n",
        "  \"category\": \"Healthcare\"\n",
        "}\n"
      ],
      "metadata": {
        "id": "M4-QABpOmB6O"
      },
      "execution_count": null,
      "outputs": []
    },
    {
      "cell_type": "code",
      "source": [
        "# here is the step to run the API locally\n",
        "#Install the required packages-\n",
        "pip install flask joblib scikit-learn\n",
        "#start the server-\n",
        "python app.py\n",
        "# the API will be running at\n",
        "http://127.0.0.1:5000/predict\n",
        "\n"
      ],
      "metadata": {
        "id": "2lrA842DmvBi"
      },
      "execution_count": null,
      "outputs": []
    },
    {
      "cell_type": "code",
      "source": [
        "# How to test the API\n",
        "# Option 1: PowerShell\n",
        "Invoke-RestMethod -Uri \"http://127.0.0.1:5000/predict\" -Method POST -Body '{\"sentence\":\"New health tips for summer\"}' -ContentType \"application/json\"\n"
      ],
      "metadata": {
        "id": "LcO1H1OJnEPF"
      },
      "execution_count": null,
      "outputs": []
    },
    {
      "cell_type": "code",
      "source": [
        "from google.colab import files\n",
        "uploaded = files.upload()\n"
      ],
      "metadata": {
        "colab": {
          "base_uri": "https://localhost:8080/",
          "height": 71
        },
        "id": "Nk0fq4Tbt3PQ",
        "outputId": "e3d0704f-b1b2-437e-cb4b-c6d1bee67497"
      },
      "execution_count": 45,
      "outputs": [
        {
          "output_type": "display_data",
          "data": {
            "text/plain": [
              "<IPython.core.display.HTML object>"
            ],
            "text/html": [
              "\n",
              "     <input type=\"file\" id=\"files-a848c7dc-56c8-4f2c-bf00-566e83852c89\" name=\"files[]\" multiple disabled\n",
              "        style=\"border:none\" />\n",
              "     <output id=\"result-a848c7dc-56c8-4f2c-bf00-566e83852c89\">\n",
              "      Upload widget is only available when the cell has been executed in the\n",
              "      current browser session. Please rerun this cell to enable.\n",
              "      </output>\n",
              "      <script>// Copyright 2017 Google LLC\n",
              "//\n",
              "// Licensed under the Apache License, Version 2.0 (the \"License\");\n",
              "// you may not use this file except in compliance with the License.\n",
              "// You may obtain a copy of the License at\n",
              "//\n",
              "//      http://www.apache.org/licenses/LICENSE-2.0\n",
              "//\n",
              "// Unless required by applicable law or agreed to in writing, software\n",
              "// distributed under the License is distributed on an \"AS IS\" BASIS,\n",
              "// WITHOUT WARRANTIES OR CONDITIONS OF ANY KIND, either express or implied.\n",
              "// See the License for the specific language governing permissions and\n",
              "// limitations under the License.\n",
              "\n",
              "/**\n",
              " * @fileoverview Helpers for google.colab Python module.\n",
              " */\n",
              "(function(scope) {\n",
              "function span(text, styleAttributes = {}) {\n",
              "  const element = document.createElement('span');\n",
              "  element.textContent = text;\n",
              "  for (const key of Object.keys(styleAttributes)) {\n",
              "    element.style[key] = styleAttributes[key];\n",
              "  }\n",
              "  return element;\n",
              "}\n",
              "\n",
              "// Max number of bytes which will be uploaded at a time.\n",
              "const MAX_PAYLOAD_SIZE = 100 * 1024;\n",
              "\n",
              "function _uploadFiles(inputId, outputId) {\n",
              "  const steps = uploadFilesStep(inputId, outputId);\n",
              "  const outputElement = document.getElementById(outputId);\n",
              "  // Cache steps on the outputElement to make it available for the next call\n",
              "  // to uploadFilesContinue from Python.\n",
              "  outputElement.steps = steps;\n",
              "\n",
              "  return _uploadFilesContinue(outputId);\n",
              "}\n",
              "\n",
              "// This is roughly an async generator (not supported in the browser yet),\n",
              "// where there are multiple asynchronous steps and the Python side is going\n",
              "// to poll for completion of each step.\n",
              "// This uses a Promise to block the python side on completion of each step,\n",
              "// then passes the result of the previous step as the input to the next step.\n",
              "function _uploadFilesContinue(outputId) {\n",
              "  const outputElement = document.getElementById(outputId);\n",
              "  const steps = outputElement.steps;\n",
              "\n",
              "  const next = steps.next(outputElement.lastPromiseValue);\n",
              "  return Promise.resolve(next.value.promise).then((value) => {\n",
              "    // Cache the last promise value to make it available to the next\n",
              "    // step of the generator.\n",
              "    outputElement.lastPromiseValue = value;\n",
              "    return next.value.response;\n",
              "  });\n",
              "}\n",
              "\n",
              "/**\n",
              " * Generator function which is called between each async step of the upload\n",
              " * process.\n",
              " * @param {string} inputId Element ID of the input file picker element.\n",
              " * @param {string} outputId Element ID of the output display.\n",
              " * @return {!Iterable<!Object>} Iterable of next steps.\n",
              " */\n",
              "function* uploadFilesStep(inputId, outputId) {\n",
              "  const inputElement = document.getElementById(inputId);\n",
              "  inputElement.disabled = false;\n",
              "\n",
              "  const outputElement = document.getElementById(outputId);\n",
              "  outputElement.innerHTML = '';\n",
              "\n",
              "  const pickedPromise = new Promise((resolve) => {\n",
              "    inputElement.addEventListener('change', (e) => {\n",
              "      resolve(e.target.files);\n",
              "    });\n",
              "  });\n",
              "\n",
              "  const cancel = document.createElement('button');\n",
              "  inputElement.parentElement.appendChild(cancel);\n",
              "  cancel.textContent = 'Cancel upload';\n",
              "  const cancelPromise = new Promise((resolve) => {\n",
              "    cancel.onclick = () => {\n",
              "      resolve(null);\n",
              "    };\n",
              "  });\n",
              "\n",
              "  // Wait for the user to pick the files.\n",
              "  const files = yield {\n",
              "    promise: Promise.race([pickedPromise, cancelPromise]),\n",
              "    response: {\n",
              "      action: 'starting',\n",
              "    }\n",
              "  };\n",
              "\n",
              "  cancel.remove();\n",
              "\n",
              "  // Disable the input element since further picks are not allowed.\n",
              "  inputElement.disabled = true;\n",
              "\n",
              "  if (!files) {\n",
              "    return {\n",
              "      response: {\n",
              "        action: 'complete',\n",
              "      }\n",
              "    };\n",
              "  }\n",
              "\n",
              "  for (const file of files) {\n",
              "    const li = document.createElement('li');\n",
              "    li.append(span(file.name, {fontWeight: 'bold'}));\n",
              "    li.append(span(\n",
              "        `(${file.type || 'n/a'}) - ${file.size} bytes, ` +\n",
              "        `last modified: ${\n",
              "            file.lastModifiedDate ? file.lastModifiedDate.toLocaleDateString() :\n",
              "                                    'n/a'} - `));\n",
              "    const percent = span('0% done');\n",
              "    li.appendChild(percent);\n",
              "\n",
              "    outputElement.appendChild(li);\n",
              "\n",
              "    const fileDataPromise = new Promise((resolve) => {\n",
              "      const reader = new FileReader();\n",
              "      reader.onload = (e) => {\n",
              "        resolve(e.target.result);\n",
              "      };\n",
              "      reader.readAsArrayBuffer(file);\n",
              "    });\n",
              "    // Wait for the data to be ready.\n",
              "    let fileData = yield {\n",
              "      promise: fileDataPromise,\n",
              "      response: {\n",
              "        action: 'continue',\n",
              "      }\n",
              "    };\n",
              "\n",
              "    // Use a chunked sending to avoid message size limits. See b/62115660.\n",
              "    let position = 0;\n",
              "    do {\n",
              "      const length = Math.min(fileData.byteLength - position, MAX_PAYLOAD_SIZE);\n",
              "      const chunk = new Uint8Array(fileData, position, length);\n",
              "      position += length;\n",
              "\n",
              "      const base64 = btoa(String.fromCharCode.apply(null, chunk));\n",
              "      yield {\n",
              "        response: {\n",
              "          action: 'append',\n",
              "          file: file.name,\n",
              "          data: base64,\n",
              "        },\n",
              "      };\n",
              "\n",
              "      let percentDone = fileData.byteLength === 0 ?\n",
              "          100 :\n",
              "          Math.round((position / fileData.byteLength) * 100);\n",
              "      percent.textContent = `${percentDone}% done`;\n",
              "\n",
              "    } while (position < fileData.byteLength);\n",
              "  }\n",
              "\n",
              "  // All done.\n",
              "  yield {\n",
              "    response: {\n",
              "      action: 'complete',\n",
              "    }\n",
              "  };\n",
              "}\n",
              "\n",
              "scope.google = scope.google || {};\n",
              "scope.google.colab = scope.google.colab || {};\n",
              "scope.google.colab._files = {\n",
              "  _uploadFiles,\n",
              "  _uploadFilesContinue,\n",
              "};\n",
              "})(self);\n",
              "</script> "
            ]
          },
          "metadata": {}
        },
        {
          "output_type": "stream",
          "name": "stdout",
          "text": [
            "Saving Screenshot_API_Test.png to Screenshot_API_Test (1).png\n"
          ]
        }
      ]
    },
    {
      "cell_type": "code",
      "source": [
        "from IPython.display import Image\n",
        "Image(\"Screenshot_API_Test.png\")\n"
      ],
      "metadata": {
        "colab": {
          "base_uri": "https://localhost:8080/",
          "height": 226
        },
        "id": "bqIM-5pRt36E",
        "outputId": "dd0ed694-4d0e-4e17-d673-42e839bca486"
      },
      "execution_count": 46,
      "outputs": [
        {
          "output_type": "execute_result",
          "data": {
            "image/png": "[encoded data removed]",
            "text/plain": [
              "<IPython.core.display.Image object>"
            ]
          },
          "metadata": {},
          "execution_count": 46
        }
      ]
    },
    {
      "cell_type": "code",
      "source": [
        "# this is the API result"
      ],
      "metadata": {
        "id": "w1d5qzi5uBF2"
      },
      "execution_count": null,
      "outputs": []
    }
  ]
}